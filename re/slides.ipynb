{
 "cells": [
  {
   "cell_type": "markdown",
   "metadata": {
    "collapsed": true,
    "slideshow": {
     "slide_type": "slide"
    }
   },
   "source": [
    "Regular Expressions\n",
    "-------------------\n",
    "\n",
    "An experiment in Jupyter slides.\n",
    "\n",
    "J. Roberts\n",
    "\n",
    "$E = mc^2$"
   ]
  },
  {
   "cell_type": "markdown",
   "metadata": {
    "collapsed": true,
    "slideshow": {
     "slide_type": "slide"
    }
   },
   "source": [
    "Regular expressions built in via the `re` module.  Super simple example:"
   ]
  },
  {
   "cell_type": "code",
   "execution_count": 7,
   "metadata": {
    "collapsed": false,
    "slideshow": {
     "slide_type": "subslide"
    }
   },
   "outputs": [
    {
     "name": "stdout",
     "output_type": "stream",
     "text": [
      "(3, 6)\n"
     ]
    }
   ],
   "source": [
    "import re\n",
    "match = re.search(r'\\d+', r'abc123def')  # note the \"r\" prefix\n",
    "print match.span() # what do the numbers represent?"
   ]
  },
  {
   "cell_type": "markdown",
   "metadata": {
    "slideshow": {
     "slide_type": "slide"
    }
   },
   "source": [
    "\n",
    "Special Sequences\n",
    "-----------------\n",
    "\n",
    "Several, special keys are used for sequences of importance in the `re` module."
   ]
  },
  {
   "cell_type": "markdown",
   "metadata": {
    "slideshow": {
     "slide_type": "subslide"
    }
   },
   "source": [
    "\n",
    "|name |description                                 |\n",
    "|:---:|:------------------------------------------:|\n",
    "|`\\d` | any digit, i.e., `[0-9]`                   |\n",
    "|`\\D` | any non-digit, i.e., `[^0-9]`              |\n",
    "|`\\s` | any whitespace, i.e., `[ \\t\\n\\r\\f\\v]`      |\n",
    "|`\\S` | any non-whitespace, i.e., `[^ \\t\\n\\r\\f\\v]` |\n",
    "|`\\w` | alphanumeric, i.e., `[a-zA-Z0-9_]`         |\n",
    "|`\\W` | non alphanumeric, i.e., `[^ a-zA-Z0-9_]`   |\n"
   ]
  },
  {
   "cell_type": "markdown",
   "metadata": {
    "slideshow": {
     "slide_type": "slide"
    }
   },
   "source": [
    "Metacharacters\n",
    "--------------\n",
    "\n",
    "Several, special \"metacharacters\" are used to define regular expressions with the `re` module.\n"
   ]
  },
  {
   "cell_type": "markdown",
   "metadata": {
    "slideshow": {
     "slide_type": "subslide"
    }
   },
   "source": [
    "\n",
    "|name |description                                 |\n",
    "|:---:|:------------------------------------------:|\n",
    "|`.`  | any character but `\\n` |\n",
    "|`^`  | match at beginning or class complement |\n",
    "|`$`  | match at ending |\n",
    "|`*`  | match 0 or more times |\n",
    "|`?`  | match 0 or 1 times        |\n",
    "|`\\`  | escape character  |\n",
    "|<code>&#124;</code>|    \"or\"                          |\n",
    "|`[]` | defines character class, e.g., `[a-z]`      |\n",
    "|`{}` | for repeated qualifier, e.g., `ab{2,3}` |\n",
    "|`()` | for groups |"
   ]
  },
  {
   "cell_type": "markdown",
   "metadata": {
    "collapsed": true,
    "slideshow": {
     "slide_type": "slide"
    }
   },
   "source": [
    "Example 1\n",
    "---------\n",
    "\n",
    "Consider the pattern `ca*t`.  Does it match the following?  If so, what is the match?\n",
    "  - `ct`\n",
    "  - `cat`\n",
    "  - `caaat`\n",
    "  - `go cats!`"
   ]
  },
  {
   "cell_type": "code",
   "execution_count": 8,
   "metadata": {
    "collapsed": false,
    "scrolled": true,
    "slideshow": {
     "slide_type": "subslide"
    }
   },
   "outputs": [
    {
     "name": "stdout",
     "output_type": "stream",
     "text": [
      "(0, 2)\n",
      "(0, 3)\n",
      "(0, 5)\n",
      "None\n"
     ]
    }
   ],
   "source": [
    "pattern = r'ca*t'\n",
    "print re.match(pattern, r'ct').span()\n",
    "print re.match(pattern, r'cat').span()\n",
    "print re.match(pattern, r'caaat').span()\n",
    "print re.match(pattern, r'go cats!')"
   ]
  },
  {
   "cell_type": "markdown",
   "metadata": {
    "slideshow": {
     "slide_type": "slide"
    }
   },
   "source": [
    "Example 2\n",
    "---------\n",
    "\n",
    "How about this slight modification?  Consider `ca*[\\w ]+t` applied to `catenkerous cat`.  Is it a match?  How much?\n",
    "\n"
   ]
  },
  {
   "cell_type": "code",
   "execution_count": 9,
   "metadata": {
    "collapsed": false,
    "slideshow": {
     "slide_type": "subslide"
    }
   },
   "outputs": [
    {
     "name": "stdout",
     "output_type": "stream",
     "text": [
      "(0, 15)\n"
     ]
    }
   ],
   "source": [
    "print re.match(r'ca*[\\w ]+t', r'catenkerous cat!').span()"
   ]
  },
  {
   "cell_type": "markdown",
   "metadata": {
    "slideshow": {
     "slide_type": "notes"
    }
   },
   "source": [
    "This highlights the fact that `*` is *greedy*.  In other words, it grabs as large a match as possible."
   ]
  },
  {
   "cell_type": "markdown",
   "metadata": {
    "slideshow": {
     "slide_type": "slide"
    }
   },
   "source": [
    "Now, for the fun stuff.  Do\n",
    "```\n",
    "  cd /path/to/ME701_examples\n",
    "  git pull\n",
    "```\n",
    "You should now have a new folder `re` with some fun, real-world data to munge!"
   ]
  }
 ],
 "metadata": {
  "anaconda-cloud": {},
  "celltoolbar": "Slideshow",
  "kernelspec": {
   "display_name": "Python [default]",
   "language": "python",
   "name": "python2"
  },
  "language_info": {
   "codemirror_mode": {
    "name": "ipython",
    "version": 2
   },
   "file_extension": ".py",
   "mimetype": "text/x-python",
   "name": "python",
   "nbconvert_exporter": "python",
   "pygments_lexer": "ipython2",
   "version": "2.7.12"
  }
 },
 "nbformat": 4,
 "nbformat_minor": 0
}
